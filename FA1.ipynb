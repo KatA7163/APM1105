{
 "cells": [
  {
   "cell_type": "markdown",
   "id": "f82ea668",
   "metadata": {},
   "source": [
    "# Exercise 1 - Items 2 & 3\n",
    "\n",
    "## Start the Python interpreter and use it as a calculator.\n",
    "\n",
    "### 1. How many seconds are there in 42 minutes 42 seconds?\n"
   ]
  },
  {
   "cell_type": "code",
   "execution_count": 3,
   "id": "9b7a273d",
   "metadata": {},
   "outputs": [
    {
     "name": "stdout",
     "output_type": "stream",
     "text": [
      "2562.000000\n"
     ]
    }
   ],
   "source": [
    "minutes = 42\n",
    "seconds = minutes * 60 + 42\n",
    "print('%f' %(seconds))"
   ]
  },
  {
   "cell_type": "markdown",
   "id": "19a5554f",
   "metadata": {},
   "source": [
    "### 2. How many miles are there in 10 kilometers? Hint: there are 1.61 kilometers in a mile.\n"
   ]
  },
  {
   "cell_type": "code",
   "execution_count": 2,
   "id": "c4677b5b",
   "metadata": {},
   "outputs": [
    {
     "name": "stdout",
     "output_type": "stream",
     "text": [
      "There are 6.21 miles in 10.000000 kilometers\n"
     ]
    }
   ],
   "source": [
    "kilometers = 10\n",
    "mpk = 1.61\n",
    "miles = kilometers / mpk\n",
    "print(\"There are %0.2f miles in %f kilometers\" %(miles, kilometers))"
   ]
  },
  {
   "cell_type": "markdown",
   "id": "da6904eb",
   "metadata": {},
   "source": [
    "### 3. If you run a 10 kilometer race in 42 minutes 42 seconds, what is your average pace (time per mile in minutes and seconds)? What is your average speed in miles per hour? \n"
   ]
  },
  {
   "cell_type": "code",
   "execution_count": 5,
   "id": "d88a9380",
   "metadata": {},
   "outputs": [
    {
     "name": "stdout",
     "output_type": "stream",
     "text": [
      "The average pace in minutes per mile is 6.87\n",
      "The average speed in miles per hour is 8.73\n"
     ]
    }
   ],
   "source": [
    "minutes = seconds / 60\n",
    "hours = minutes / 60\n",
    "\n",
    "ave_pace = minutes / miles\n",
    "ave_speed = miles / hours\n",
    "\n",
    "print('The average pace in minutes per mile is %0.2f' %(ave_pace))\n",
    "print('The average speed in miles per hour is %0.2f' %(ave_speed))\n"
   ]
  },
  {
   "cell_type": "code",
   "execution_count": null,
   "id": "b55b0ba5",
   "metadata": {},
   "outputs": [],
   "source": []
  }
 ],
 "metadata": {
  "kernelspec": {
   "display_name": "Python 3 (ipykernel)",
   "language": "python",
   "name": "python3"
  },
  "language_info": {
   "codemirror_mode": {
    "name": "ipython",
    "version": 3
   },
   "file_extension": ".py",
   "mimetype": "text/x-python",
   "name": "python",
   "nbconvert_exporter": "python",
   "pygments_lexer": "ipython3",
   "version": "3.11.5"
  }
 },
 "nbformat": 4,
 "nbformat_minor": 5
}
