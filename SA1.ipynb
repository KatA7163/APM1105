{
 "cells": [
  {
   "cell_type": "markdown",
   "id": "1ceab9d2",
   "metadata": {},
   "source": [
    "# Write a program for each of the following:\n",
    "\n",
    "# 1. words.txt"
   ]
  },
  {
   "cell_type": "code",
   "execution_count": 1,
   "id": "8a49203a",
   "metadata": {},
   "outputs": [
    {
     "name": "stdout",
     "output_type": "stream",
     "text": [
      "Dataset saved to file.\n"
     ]
    }
   ],
   "source": [
    "import requests\n",
    "\n",
    "# URL of the raw dataset file on GitHub\n",
    "url = 'https://raw.githubusercontent.com/AllenDowney/ThinkPython2/master/code/words.txt'\n",
    "\n",
    "# Send a GET request to the URL\n",
    "response = requests.get(url)\n",
    "\n",
    "# Check if the request was successful\n",
    "if response.status_code == 200:\n",
    "    # Save the content of the response to a file\n",
    "    with open('words.txt', 'wb') as f:\n",
    "        f.write(response.content)\n",
    "        print('Dataset saved to file.')\n",
    "else:\n",
    "    print('Failed to download dataset.')"
   ]
  },
  {
   "cell_type": "markdown",
   "id": "ccda039e",
   "metadata": {},
   "source": [
    "###    A. Print the total number of words in the file."
   ]
  },
  {
   "cell_type": "code",
   "execution_count": 2,
   "id": "3035aecc",
   "metadata": {},
   "outputs": [
    {
     "name": "stdout",
     "output_type": "stream",
     "text": [
      "Total number of words: 113783\n"
     ]
    }
   ],
   "source": [
    "with open('words.txt', 'r') as file:\n",
    "    words = file.read().split()\n",
    "\n",
    "total_words = len(words)\n",
    "\n",
    "print(f\"Total number of words: {total_words}\")"
   ]
  },
  {
   "cell_type": "markdown",
   "id": "95c92d9c",
   "metadata": {},
   "source": [
    "###    B. Print the longest word in the file."
   ]
  },
  {
   "cell_type": "code",
   "execution_count": 3,
   "id": "85c4a8ea",
   "metadata": {},
   "outputs": [
    {
     "name": "stdout",
     "output_type": "stream",
     "text": [
      "The longest word in the file is: counterdemonstrations\n"
     ]
    }
   ],
   "source": [
    "longest_word = \"\"\n",
    "max_length = 0\n",
    "\n",
    "for word in words:\n",
    "    if len(word) > max_length:\n",
    "        longest_word = word\n",
    "        max_length = len(word)\n",
    "\n",
    "print(f\"The longest word in the file is: {longest_word}\")"
   ]
  },
  {
   "cell_type": "markdown",
   "id": "8a5a7e1e",
   "metadata": {},
   "source": [
    "###    C. Print the number of words that start with a certain letter (use user input)."
   ]
  },
  {
   "cell_type": "code",
   "execution_count": 4,
   "id": "e2f85896",
   "metadata": {},
   "outputs": [
    {
     "name": "stdout",
     "output_type": "stream",
     "text": [
      "Enter a letter: e\n",
      "Number of words starting with 'e': 4364\n"
     ]
    }
   ],
   "source": [
    "letter = input(\"Enter a letter: \")\n",
    "\n",
    "letter = letter.lower()\n",
    "\n",
    "count = 0\n",
    "\n",
    "for word in words:\n",
    "    if word.lower().startswith(letter):\n",
    "        count += 1\n",
    "\n",
    "print(f\"Number of words starting with '{letter}': {count}\")"
   ]
  },
  {
   "cell_type": "markdown",
   "id": "366aa424",
   "metadata": {},
   "source": [
    "###    D. Print all the words that contain a certain substring (use user input)."
   ]
  },
  {
   "cell_type": "code",
   "execution_count": 5,
   "id": "1dc17cc6",
   "metadata": {},
   "outputs": [
    {
     "name": "stdout",
     "output_type": "stream",
     "text": [
      "Enter substring: cats\n",
      "Words containing 'cats':\n",
      "bearcats\n",
      "bobcats\n",
      "cats\n",
      "catspaw\n",
      "catspaws\n",
      "catsup\n",
      "catsups\n",
      "copycats\n",
      "ducats\n",
      "hellcats\n",
      "hepcats\n",
      "muscats\n",
      "polecats\n",
      "pussycats\n",
      "scats\n",
      "tipcats\n",
      "tomcats\n",
      "wildcats\n"
     ]
    }
   ],
   "source": [
    "substring = input(\"Enter substring: \")\n",
    "\n",
    "matching_words = []\n",
    "\n",
    "for word in words:\n",
    "    if substring.lower() in word.lower():\n",
    "        matching_words.append(word)\n",
    "\n",
    "if matching_words:\n",
    "    print(f\"Words containing '{substring}':\")\n",
    "    for matching_word in matching_words:\n",
    "        print(matching_word)\n",
    "else:\n",
    "    print(f\"No words containing '{substring}' found.\")"
   ]
  },
  {
   "cell_type": "markdown",
   "id": "d7d4c6fd",
   "metadata": {},
   "source": [
    "###    E. Print all the words that are palindromes (i.e., read the same backwards and forwards)."
   ]
  },
  {
   "cell_type": "code",
   "execution_count": 6,
   "id": "d86710cc",
   "metadata": {},
   "outputs": [
    {
     "name": "stdout",
     "output_type": "stream",
     "text": [
      "Palindrome words found:\n",
      "aa\n",
      "aba\n",
      "aga\n",
      "aha\n",
      "ala\n",
      "alula\n",
      "ama\n",
      "ana\n",
      "anna\n",
      "ava\n",
      "awa\n",
      "bib\n",
      "bob\n",
      "boob\n",
      "bub\n",
      "civic\n",
      "dad\n",
      "deed\n",
      "deified\n",
      "deked\n",
      "deled\n",
      "denned\n",
      "dewed\n",
      "did\n",
      "dud\n",
      "eke\n",
      "eme\n",
      "ere\n",
      "eve\n",
      "ewe\n",
      "eye\n",
      "gag\n",
      "gig\n",
      "hah\n",
      "halalah\n",
      "hallah\n",
      "huh\n",
      "kaiak\n",
      "kayak\n",
      "keek\n",
      "kook\n",
      "level\n",
      "madam\n",
      "marram\n",
      "mem\n",
      "mim\n",
      "minim\n",
      "mom\n",
      "mum\n",
      "noon\n",
      "nun\n",
      "oho\n",
      "otto\n",
      "pap\n",
      "peep\n",
      "pep\n",
      "pip\n",
      "poop\n",
      "pop\n",
      "pup\n",
      "radar\n",
      "redder\n",
      "refer\n",
      "reifier\n",
      "repaper\n",
      "reviver\n",
      "rotator\n",
      "rotor\n",
      "sagas\n",
      "sees\n",
      "selles\n",
      "sememes\n",
      "semes\n",
      "seres\n",
      "sexes\n",
      "shahs\n",
      "sis\n",
      "solos\n",
      "sos\n",
      "stets\n",
      "tat\n",
      "tenet\n",
      "terret\n",
      "tit\n",
      "toot\n",
      "tot\n",
      "tut\n",
      "vav\n",
      "waw\n",
      "wow\n",
      "yay\n"
     ]
    }
   ],
   "source": [
    "palindrome_words = []\n",
    "\n",
    "def is_palindrome(word):\n",
    "    return word.lower() == word.lower()[::-1]\n",
    "\n",
    "for word in words:\n",
    "    if is_palindrome(word):\n",
    "        palindrome_words.append(word)\n",
    "\n",
    "if palindrome_words:\n",
    "    print(\"Palindrome words found:\")\n",
    "    for palindrome_word in palindrome_words:\n",
    "        print(palindrome_word)\n",
    "else:\n",
    "    print(\"No palindromes found.\")"
   ]
  },
  {
   "cell_type": "markdown",
   "id": "c0af14b6",
   "metadata": {},
   "source": [
    "###    F. Count the frequency of each letter. "
   ]
  },
  {
   "cell_type": "code",
   "execution_count": 7,
   "id": "ba89bff4",
   "metadata": {},
   "outputs": [
    {
     "name": "stdout",
     "output_type": "stream",
     "text": [
      "Frequency of each letter:\n",
      "a: 68574\n",
      "b: 17794\n",
      "c: 34281\n",
      "d: 34548\n",
      "e: 106752\n",
      "f: 12706\n",
      "g: 27832\n",
      "h: 20186\n",
      "i: 77392\n",
      "j: 1780\n",
      "k: 9366\n",
      "l: 47003\n",
      "m: 24739\n",
      "n: 60505\n",
      "o: 54538\n",
      "p: 25789\n",
      "q: 1632\n",
      "r: 64963\n",
      "s: 86526\n",
      "t: 57029\n",
      "u: 31151\n",
      "v: 9186\n",
      "w: 8533\n",
      "x: 2700\n",
      "y: 13473\n",
      "z: 3750\n"
     ]
    }
   ],
   "source": [
    "from collections import Counter\n",
    "import string\n",
    "\n",
    "with open('words.txt', 'r') as file:\n",
    "    content = file.read()\n",
    "\n",
    "content = content.lower()\n",
    "\n",
    "content = ''.join(char for char in content if char.isalpha())\n",
    "\n",
    "letter_frequency = Counter(content)\n",
    "\n",
    "print(\"Frequency of each letter:\")\n",
    "for letter in string.ascii_lowercase:\n",
    "    print(f\"{letter}: {letter_frequency[letter]}\")"
   ]
  },
  {
   "cell_type": "markdown",
   "id": "e1e2ec6e",
   "metadata": {},
   "source": [
    "###    G. Write a program using the words in words.txt to create a word guessing game."
   ]
  },
  {
   "cell_type": "code",
   "execution_count": 8,
   "id": "20a9fcb1",
   "metadata": {},
   "outputs": [
    {
     "name": "stdout",
     "output_type": "stream",
     "text": [
      "Start Game:\n",
      "Enter one letter at a time.\n",
      "_ _ _ _ _ _ _ \n",
      "Remaining guesses: 6\n",
      "Enter a letter: a\n",
      "Incorrect. ✖\n",
      "_ _ _ _ _ _ _ \n",
      "Remaining guesses: 5\n",
      "Enter a letter: e\n",
      "Incorrect. ✖\n",
      "_ _ _ _ _ _ _ \n",
      "Remaining guesses: 4\n",
      "Enter a letter: t\n",
      "Correct! ✔\n",
      "_ _ t _ _ t _ \n",
      "Remaining guesses: 4\n",
      "Enter a letter: s\n",
      "Correct! ✔\n",
      "_ _ t _ _ t s \n",
      "Remaining guesses: 4\n",
      "Enter a letter: l\n",
      "Correct! ✔\n",
      "_ _ t _ l t s \n",
      "Remaining guesses: 4\n",
      "Enter a letter: o\n",
      "Incorrect. ✖\n",
      "_ _ t _ l t s \n",
      "Remaining guesses: 3\n",
      "Enter a letter: i\n",
      "Correct! ✔\n",
      "_ _ t i l t s \n",
      "Remaining guesses: 3\n",
      "Enter a letter: u\n",
      "Correct! ✔\n",
      "u _ t i l t s \n",
      "Remaining guesses: 3\n",
      "Enter a letter: n\n",
      "Incorrect. ✖\n",
      "u _ t i l t s \n",
      "Remaining guesses: 2\n",
      "Enter a letter: x\n",
      "Incorrect. ✖\n",
      "u _ t i l t s \n",
      "Remaining guesses: 1\n",
      "Enter a letter: s\n",
      "You've already guessed that letter.\n",
      "u _ t i l t s \n",
      "Remaining guesses: 1\n",
      "Enter a letter: p\n",
      "Correct! ✔\n",
      "Congratulations! You've guessed the word: uptilts ヾ(●ω●)ノ\n"
     ]
    }
   ],
   "source": [
    "import random\n",
    "\n",
    "def select_word(filename):\n",
    "    with open(filename, 'r') as file:\n",
    "        words = file.readlines()\n",
    "    return random.choice(words).strip()\n",
    "\n",
    "def display_word(word, guessed_letters):\n",
    "    display = \"\"\n",
    "    for letter in word:\n",
    "        if letter in guessed_letters:\n",
    "            display += letter + \" \"\n",
    "        else:\n",
    "            display += \"_ \"\n",
    "    return display\n",
    "\n",
    "def get_guess():\n",
    "    while True:\n",
    "        guess = input(\"Enter a letter: \").lower()\n",
    "        if len(guess) == 1 and guess.isalpha():\n",
    "            return guess\n",
    "        else:\n",
    "            print(\"Please enter a single letter.\")\n",
    "\n",
    "def main():\n",
    "    filename = \"words.txt\"\n",
    "    max_guesses = 6\n",
    "    guessed_letters = []\n",
    "    word = select_word(filename)\n",
    "    remaining_guesses = max_guesses\n",
    "\n",
    "    print(\"Start Game:\")\n",
    "    print(\"Enter one letter at a time.\")\n",
    "\n",
    "    while remaining_guesses > 0:\n",
    "        print(display_word(word, guessed_letters))\n",
    "        print(f\"Remaining guesses: {remaining_guesses}\")\n",
    "        guess = get_guess()\n",
    "\n",
    "        if guess in guessed_letters:\n",
    "            print(\"You've already guessed that letter.\")\n",
    "            continue\n",
    "        elif guess in word:\n",
    "            print(\"Correct! ✔\")\n",
    "        else:\n",
    "            print(\"Incorrect. ✖\")\n",
    "            remaining_guesses -= 1\n",
    "\n",
    "        guessed_letters.append(guess)\n",
    "\n",
    "        if all(letter in guessed_letters for letter in word):\n",
    "            print(f\"Congratulations! You've guessed the word: {word} ヾ(●ω●)ノ\") \n",
    "            break\n",
    "\n",
    "    if remaining_guesses == 0:\n",
    "        print(f\"Sorry, you've lost. The word was: {word} ʕ ´•̥̥̥ ᴥ•̥̥̥`ʔ\")\n",
    "\n",
    "if __name__ == \"__main__\":\n",
    "    main() #attempt 1#"
   ]
  },
  {
   "cell_type": "code",
   "execution_count": 9,
   "id": "a571018a",
   "metadata": {},
   "outputs": [
    {
     "name": "stdout",
     "output_type": "stream",
     "text": [
      "Start Game:\n",
      "Enter one letter at a time.\n",
      "_ _ _ _ _ _ _ _ \n",
      "Remaining guesses: 6\n",
      "Enter a letter: x\n",
      "Incorrect. ✖\n",
      "_ _ _ _ _ _ _ _ \n",
      "Remaining guesses: 5\n",
      "Enter a letter: s\n",
      "Correct! ✔\n",
      "s _ _ _ s _ _ _ \n",
      "Remaining guesses: 5\n",
      "Enter a letter: c\n",
      "Correct! ✔\n",
      "s _ _ _ s _ _ c \n",
      "Remaining guesses: 5\n",
      "Enter a letter: g\n",
      "Incorrect. ✖\n",
      "s _ _ _ s _ _ c \n",
      "Remaining guesses: 4\n",
      "Enter a letter: n\n",
      "Incorrect. ✖\n",
      "s _ _ _ s _ _ c \n",
      "Remaining guesses: 3\n",
      "Enter a letter: a\n",
      "Correct! ✔\n",
      "s a _ _ s _ _ c \n",
      "Remaining guesses: 3\n",
      "Enter a letter: u\n",
      "Incorrect. ✖\n",
      "s a _ _ s _ _ c \n",
      "Remaining guesses: 2\n",
      "Enter a letter: i\n",
      "Correct! ✔\n",
      "s a _ i s _ i c \n",
      "Remaining guesses: 2\n",
      "Enter a letter: p\n",
      "Incorrect. ✖\n",
      "s a _ i s _ i c \n",
      "Remaining guesses: 1\n",
      "Enter a letter: o\n",
      "Incorrect. ✖\n",
      "Sorry, you've lost. The word was: sadistic ʕ ´•̥̥̥ ᴥ•̥̥̥`ʔ\n"
     ]
    }
   ],
   "source": [
    "main() #attempt 2#"
   ]
  },
  {
   "cell_type": "markdown",
   "id": "f4ca2446",
   "metadata": {},
   "source": [
    "## 2. Write a program on the Fibonacci sequence using both iterations and recursion, and including rendering time to compare the performance of both approaches."
   ]
  },
  {
   "cell_type": "code",
   "execution_count": 10,
   "id": "764a1495",
   "metadata": {},
   "outputs": [
    {
     "name": "stdout",
     "output_type": "stream",
     "text": [
      "Iterative result: 832040, Time taken: 0.0 seconds\n",
      "Recursive result: 832040, Time taken: 0.8792054653167725 seconds\n"
     ]
    }
   ],
   "source": [
    "import time\n",
    "\n",
    "def fibonacci_iterative(n):\n",
    "    fib = [0, 1]\n",
    "    for i in range(2, n + 1):\n",
    "        fib.append(fib[-1] + fib[-2])\n",
    "    return fib[n]\n",
    "\n",
    "def fibonacci_recursive(n):\n",
    "    if n <= 1:\n",
    "        return n\n",
    "    return fibonacci_recursive(n - 1) + fibonacci_recursive(n - 2)\n",
    "\n",
    "start_time_iter = time.time()\n",
    "result_iter = fibonacci_iterative(30)\n",
    "end_time_iter = time.time()\n",
    "iter_time = end_time_iter - start_time_iter\n",
    "\n",
    "start_time_rec = time.time()\n",
    "result_rec = fibonacci_recursive(30)\n",
    "end_time_rec = time.time()\n",
    "rec_time = end_time_rec - start_time_rec\n",
    "\n",
    "print(f\"Iterative result: {result_iter}, Time taken: {iter_time} seconds\")\n",
    "print(f\"Recursive result: {result_rec}, Time taken: {rec_time} seconds\")"
   ]
  },
  {
   "cell_type": "markdown",
   "id": "d9d4b593",
   "metadata": {},
   "source": [
    "## 3. Write a program to find the solution to the equation using iterative formula with initial value, giving the answer to 3 decimal places. "
   ]
  },
  {
   "cell_type": "code",
   "execution_count": 11,
   "id": "acd89c99",
   "metadata": {},
   "outputs": [
    {
     "name": "stdout",
     "output_type": "stream",
     "text": [
      "x_2 = 2.154\n",
      "x_2.154 = 2.097\n",
      "x_2.097 = 2.119\n",
      "x_2.119 = 2.111\n",
      "x_2.111 = 2.114\n",
      "x_2.114 = 2.113\n",
      "x_2.113 = 2.113\n"
     ]
    }
   ],
   "source": [
    "def equation_solver():\n",
    "    x_n = 2 \n",
    "\n",
    "    while True:\n",
    "        x_n_plus_1 = pow(20 - 5 * x_n, 1/3)  \n",
    "        print(f\"x_{round(x_n, 3)} = {round(x_n_plus_1, 3)}\")\n",
    "\n",
    "        if round(x_n_plus_1, 3) == round(x_n, 3):\n",
    "            break\n",
    "        \n",
    "        x_n = x_n_plus_1  \n",
    "\n",
    "if __name__ == \"__main__\":\n",
    "    equation_solver()"
   ]
  }
 ],
 "metadata": {
  "kernelspec": {
   "display_name": "Python 3 (ipykernel)",
   "language": "python",
   "name": "python3"
  },
  "language_info": {
   "codemirror_mode": {
    "name": "ipython",
    "version": 3
   },
   "file_extension": ".py",
   "mimetype": "text/x-python",
   "name": "python",
   "nbconvert_exporter": "python",
   "pygments_lexer": "ipython3",
   "version": "3.11.5"
  }
 },
 "nbformat": 4,
 "nbformat_minor": 5
}
