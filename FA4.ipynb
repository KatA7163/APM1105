{
 "cells": [
  {
   "cell_type": "markdown",
   "id": "ec7738be",
   "metadata": {},
   "source": [
    "## 1. Write a Python program to print the even numbers from a given list.\n",
    "\n",
    "### List: [1, 2, 3, 4, 5, 6, 7, 8, 9, 10, 11, 13, 15, 17, 19, 24, 26, 28, 30, 32]\n",
    "\n"
   ]
  },
  {
   "cell_type": "code",
   "execution_count": 1,
   "id": "09d36126",
   "metadata": {},
   "outputs": [
    {
     "name": "stdout",
     "output_type": "stream",
     "text": [
      "2 4 6 8 10 24 26 28 30 32 "
     ]
    }
   ],
   "source": [
    "List = [1, 2, 3, 4, 5, 6, 7, 8, 9, 10, 11, 13, 15, 17, 19, 24, 26, 28, 30, 32]\n",
    "for num in List:\n",
    "    if num % 2 == 0:\n",
    "        print(num, end=\" \")"
   ]
  },
  {
   "cell_type": "markdown",
   "id": "4b1dbeff",
   "metadata": {},
   "source": [
    "## 2. Generate a Python list of all the even numbers between 10 to 60.\n",
    "\n"
   ]
  },
  {
   "cell_type": "code",
   "execution_count": 2,
   "id": "0a1229ca",
   "metadata": {},
   "outputs": [
    {
     "name": "stdout",
     "output_type": "stream",
     "text": [
      "10 12 14 16 18 20 22 24 26 28 30 32 34 36 38 40 42 44 46 48 50 52 54 56 58 "
     ]
    }
   ],
   "source": [
    "for even in range(10,60,2):\n",
    "    print(even,end=\" \")"
   ]
  },
  {
   "cell_type": "markdown",
   "id": "d0cfc93c",
   "metadata": {},
   "source": [
    "## 3. Write a program to create a function show_feu_professor() using the following conditions:\n",
    "\n",
    "#### It should accept the professor’s name and salary and display both.\n",
    "#### If the salary is missing in the function call then assign default value 70000 to salary.\n",
    "#### Expected output: Display of at least 5 FEU professors with their salaries."
   ]
  },
  {
   "cell_type": "code",
   "execution_count": 4,
   "id": "20a16fa1",
   "metadata": {},
   "outputs": [
    {
     "name": "stdout",
     "output_type": "stream",
     "text": [
      "Professor's Name:  Jeffrey Alvarina\n",
      "          Salary:  70000\n",
      "Professor's Name:  Mary Joyce Hernal\n",
      "          Salary:  60000\n",
      "Professor's Name:  Joanna Eugenio\n",
      "          Salary:  65000\n",
      "Professor's Name:  Joseph Lopez\n",
      "          Salary:  70000\n",
      "Professor's Name:  Gloria Mendoza\n",
      "          Salary:  50000\n"
     ]
    }
   ],
   "source": [
    "def show_feu_professor(name, sal=70000):\n",
    "    print(\"Professor's Name: \", name)\n",
    "    print(\"          Salary: \", sal) \n",
    "\n",
    "show_feu_professor(\"Jeffrey Alvarina\")\n",
    "show_feu_professor(\"Mary Joyce Hernal\", 60000)\n",
    "show_feu_professor(\"Joanna Eugenio\", 65000)\n",
    "show_feu_professor(\"Joseph Lopez\")\n",
    "show_feu_professor(\"Gloria Mendoza\", 50000)\n"
   ]
  }
 ],
 "metadata": {
  "kernelspec": {
   "display_name": "Python 3 (ipykernel)",
   "language": "python",
   "name": "python3"
  },
  "language_info": {
   "codemirror_mode": {
    "name": "ipython",
    "version": 3
   },
   "file_extension": ".py",
   "mimetype": "text/x-python",
   "name": "python",
   "nbconvert_exporter": "python",
   "pygments_lexer": "ipython3",
   "version": "3.11.5"
  }
 },
 "nbformat": 4,
 "nbformat_minor": 5
}
