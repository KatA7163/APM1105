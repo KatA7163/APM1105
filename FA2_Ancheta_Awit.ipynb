{
 "cells": [
  {
   "cell_type": "markdown",
   "id": "fe97a13d",
   "metadata": {},
   "source": [
    "# 1. Write a Python function to multiply all the numbers in a list\n",
    "  ## sample list: (24, 11, 14, 4, 8, -20)\n"
   ]
  },
  {
   "cell_type": "code",
   "execution_count": 44,
   "id": "1a23000e",
   "metadata": {},
   "outputs": [
    {
     "name": "stdout",
     "output_type": "stream",
     "text": [
      "[24, 11, 14, 4, 8, -20]\n",
      "product: \n",
      "-2365440\n"
     ]
    }
   ],
   "source": [
    "def multiply_list(list):\n",
    "\n",
    "  #Multiply the given numbers\n",
    "  product = 1\n",
    "  for i in list:\n",
    "   product = product * i\n",
    "  return product\n",
    "\n",
    "sample_list =[24, 11, 14, 4, 8, -20]\n",
    "print(sample_list)\n",
    "print(\"product: \")\n",
    "print(multiply_list(sample_list))"
   ]
  },
  {
   "cell_type": "markdown",
   "id": "4f74f184",
   "metadata": {},
   "source": [
    "# 2. Write a function that draws a grid like the following:"
   ]
  },
  {
   "cell_type": "code",
   "execution_count": 43,
   "id": "2fee0dde",
   "metadata": {},
   "outputs": [
    {
     "name": "stdout",
     "output_type": "stream",
     "text": [
      " ❤︎ ▫︎ ▫︎ ▫︎ ▫︎ ❤︎ ▫︎ ▫︎ ▫︎ ▫︎ ❤︎ ▫︎ ▫︎ ▫︎ ▫︎ ❤︎ ▫︎ ▫︎ ▫︎ ▫︎ ❤︎\n",
      " ︙         ︙         ︙         ︙         ︙\n",
      " ︙         ︙         ︙         ︙         ︙\n",
      " ︙         ︙         ︙         ︙         ︙\n",
      " ︙         ︙         ︙         ︙         ︙\n",
      " ❤︎ ▫︎ ▫︎ ▫︎ ▫︎ ❤︎ ▫︎ ▫︎ ▫︎ ▫︎ ❤︎ ▫︎ ▫︎ ▫︎ ▫︎ ❤︎ ▫︎ ▫︎ ▫︎ ▫︎ ❤︎\n",
      " ︙         ︙         ︙         ︙         ︙\n",
      " ︙         ︙         ︙         ︙         ︙\n",
      " ︙         ︙         ︙         ︙         ︙\n",
      " ︙         ︙         ︙         ︙         ︙\n",
      " ❤︎ ▫︎ ▫︎ ▫︎ ▫︎ ❤︎ ▫︎ ▫︎ ▫︎ ▫︎ ❤︎ ▫︎ ▫︎ ▫︎ ▫︎ ❤︎ ▫︎ ▫︎ ▫︎ ▫︎ ❤︎\n",
      " ︙         ︙         ︙         ︙         ︙\n",
      " ︙         ︙         ︙         ︙         ︙\n",
      " ︙         ︙         ︙         ︙         ︙\n",
      " ︙         ︙         ︙         ︙         ︙\n",
      " ❤︎ ▫︎ ▫︎ ▫︎ ▫︎ ❤︎ ▫︎ ▫︎ ▫︎ ▫︎ ❤︎ ▫︎ ▫︎ ▫︎ ▫︎ ❤︎ ▫︎ ▫︎ ▫︎ ▫︎ ❤︎\n",
      " ︙         ︙         ︙         ︙         ︙\n",
      " ︙         ︙         ︙         ︙         ︙\n",
      " ︙         ︙         ︙         ︙         ︙\n",
      " ︙         ︙         ︙         ︙         ︙\n",
      " ❤︎ ▫︎ ▫︎ ▫︎ ▫︎ ❤︎ ▫︎ ▫︎ ▫︎ ▫︎ ❤︎ ▫︎ ▫︎ ▫︎ ▫︎ ❤︎ ▫︎ ▫︎ ▫︎ ▫︎ ❤︎\n"
     ]
    }
   ],
   "source": [
    "print(' ❤︎','▫︎','▫︎','▫︎','▫︎','❤︎','▫︎','▫︎','▫︎','▫︎','❤︎','▫︎','▫︎','▫︎','▫︎','❤︎','▫︎','▫︎','▫︎','▫︎','❤︎')\n",
    "print(' ︙','       ','︙','       ','︙','      ',' ︙','       ','︙')\n",
    "print(' ︙','       ','︙','       ','︙','      ',' ︙','       ','︙')\n",
    "print(' ︙','       ','︙','       ','︙','      ',' ︙','       ','︙')\n",
    "print(' ︙','       ','︙','       ','︙','      ',' ︙','       ','︙')\n",
    "print(' ❤︎','▫︎','▫︎','▫︎','▫︎','❤︎','▫︎','▫︎','▫︎','▫︎','❤︎','▫︎','▫︎','▫︎','▫︎','❤︎','▫︎','▫︎','▫︎','▫︎','❤︎')\n",
    "print(' ︙','       ','︙','       ','︙','      ',' ︙','       ','︙')\n",
    "print(' ︙','       ','︙','       ','︙','      ',' ︙','       ','︙')\n",
    "print(' ︙','       ','︙','       ','︙','      ',' ︙','       ','︙')\n",
    "print(' ︙','       ','︙','       ','︙','      ',' ︙','       ','︙')\n",
    "print(' ❤︎','▫︎','▫︎','▫︎','▫︎','❤︎','▫︎','▫︎','▫︎','▫︎','❤︎','▫︎','▫︎','▫︎','▫︎','❤︎','▫︎','▫︎','▫︎','▫︎','❤︎')\n",
    "print(' ︙','       ','︙','       ','︙','      ',' ︙','       ','︙')\n",
    "print(' ︙','       ','︙','       ','︙','      ',' ︙','       ','︙')\n",
    "print(' ︙','       ','︙','       ','︙','      ',' ︙','       ','︙')\n",
    "print(' ︙','       ','︙','       ','︙','      ',' ︙','       ','︙')\n",
    "print(' ❤︎','▫︎','▫︎','▫︎','▫︎','❤︎','▫︎','▫︎','▫︎','▫︎','❤︎','▫︎','▫︎','▫︎','▫︎','❤︎','▫︎','▫︎','▫︎','▫︎','❤︎')\n",
    "print(' ︙','       ','︙','       ','︙','      ',' ︙','       ','︙')\n",
    "print(' ︙','       ','︙','       ','︙','      ',' ︙','       ','︙')\n",
    "print(' ︙','       ','︙','       ','︙','      ',' ︙','       ','︙')\n",
    "print(' ︙','       ','︙','       ','︙','      ',' ︙','       ','︙')\n",
    "print(' ❤︎','▫︎','▫︎','▫︎','▫︎','❤︎','▫︎','▫︎','▫︎','▫︎','❤︎','▫︎','▫︎','▫︎','▫︎','❤︎','▫︎','▫︎','▫︎','▫︎','❤︎')"
   ]
  }
 ],
 "metadata": {
  "kernelspec": {
   "display_name": "Python 3 (ipykernel)",
   "language": "python",
   "name": "python3"
  },
  "language_info": {
   "codemirror_mode": {
    "name": "ipython",
    "version": 3
   },
   "file_extension": ".py",
   "mimetype": "text/x-python",
   "name": "python",
   "nbconvert_exporter": "python",
   "pygments_lexer": "ipython3",
   "version": "3.9.13"
  }
 },
 "nbformat": 4,
 "nbformat_minor": 5
}
