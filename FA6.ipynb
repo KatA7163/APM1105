{
 "cells": [
  {
   "cell_type": "markdown",
   "id": "27e1d0c6",
   "metadata": {},
   "source": [
    "### 1. Write a function named ack that evaluates the Ackermann function. Use your function to evaluate ack(2,4). What happens for larger values of m and n?"
   ]
  },
  {
   "cell_type": "code",
   "execution_count": 1,
   "id": "794b715f",
   "metadata": {},
   "outputs": [
    {
     "data": {
      "text/plain": [
       "11"
      ]
     },
     "execution_count": 1,
     "metadata": {},
     "output_type": "execute_result"
    }
   ],
   "source": [
    "m = 2\n",
    "n = 4\n",
    "\n",
    "\n",
    "def ack(m, n):\n",
    "    if m == 0:\n",
    "        return n + 1\n",
    "    elif n == 0:\n",
    "        return ack(m - 1, 1)\n",
    "    else:\n",
    "        return ack(m - 1, ack(m, n - 1))\n",
    "ack(m, n)"
   ]
  },
  {
   "cell_type": "markdown",
   "id": "dbbaebb0",
   "metadata": {},
   "source": [
    "### 2. A number, a is a power of b if it is divisible by b and a/b is a power of b. Write a function called is_power that takes parameters a and b and returns True if a is a power of b. Note: you will have to think about a base case. (Note: It should work with float.)"
   ]
  },
  {
   "cell_type": "code",
   "execution_count": 2,
   "id": "95be1371",
   "metadata": {},
   "outputs": [],
   "source": [
    "def is_power(a,b):\n",
    "    if (a % b == 0):\n",
    "        return True\n",
    "        if (a/b == 1):\n",
    "            return True\n",
    "        else:\n",
    "            (is_power(a/b,b))\n",
    "    else:\n",
    "        return False"
   ]
  },
  {
   "cell_type": "code",
   "execution_count": 3,
   "id": "8d16a49d",
   "metadata": {},
   "outputs": [
    {
     "name": "stdout",
     "output_type": "stream",
     "text": [
      "False\n",
      "True\n",
      "True\n",
      "True\n",
      "True\n",
      "True\n",
      "False\n"
     ]
    }
   ],
   "source": [
    "print(is_power(2,4))\n",
    "print(is_power(4,2))\n",
    "print(is_power(16,8))\n",
    "print(is_power(0,1))\n",
    "print(is_power(16,2))\n",
    "print(is_power(2,1))\n",
    "print(is_power(1,2))"
   ]
  }
 ],
 "metadata": {
  "kernelspec": {
   "display_name": "Python 3 (ipykernel)",
   "language": "python",
   "name": "python3"
  },
  "language_info": {
   "codemirror_mode": {
    "name": "ipython",
    "version": 3
   },
   "file_extension": ".py",
   "mimetype": "text/x-python",
   "name": "python",
   "nbconvert_exporter": "python",
   "pygments_lexer": "ipython3",
   "version": "3.11.5"
  }
 },
 "nbformat": 4,
 "nbformat_minor": 5
}
